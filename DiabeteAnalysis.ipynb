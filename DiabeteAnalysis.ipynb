{
 "cells": [
  {
   "cell_type": "code",
   "execution_count": 1,
   "id": "b783536b",
   "metadata": {},
   "outputs": [],
   "source": [
    "from sklearn.datasets import load_diabetes\n",
    "diabete = load_diabetes()\n",
    "X, y = diabete.data, diabete.target"
   ]
  },
  {
   "cell_type": "code",
   "execution_count": 2,
   "id": "3e968c7c",
   "metadata": {},
   "outputs": [
    {
     "name": "stdout",
     "output_type": "stream",
     "text": [
      "[-0.00188202 -0.04464164 -0.05147406 -0.02632783 -0.00844872 -0.01916334\n",
      "  0.07441156 -0.03949338 -0.06832974 -0.09220405]\n"
     ]
    }
   ],
   "source": [
    "print(X[1])"
   ]
  },
  {
   "cell_type": "code",
   "execution_count": 3,
   "id": "4284c13d",
   "metadata": {},
   "outputs": [
    {
     "name": "stdout",
     "output_type": "stream",
     "text": [
      "[151.  75. 141. 206. 135.  97. 138.  63. 110. 310. 101.  69. 179. 185.\n",
      " 118. 171. 166. 144.  97. 168.  68.  49.  68. 245. 184. 202. 137.  85.\n",
      " 131. 283. 129.  59. 341.  87.  65. 102. 265. 276. 252.  90. 100.  55.\n",
      "  61.  92. 259.  53. 190. 142.  75. 142. 155. 225.  59. 104. 182. 128.\n",
      "  52.  37. 170. 170.  61. 144.  52. 128.  71. 163. 150.  97. 160. 178.\n",
      "  48. 270. 202. 111.  85.  42. 170. 200. 252. 113. 143.  51.  52. 210.\n",
      "  65. 141.  55. 134.  42. 111.  98. 164.  48.  96.  90. 162. 150. 279.\n",
      "  92.  83. 128. 102. 302. 198.  95.  53. 134. 144. 232.  81. 104.  59.\n",
      " 246. 297. 258. 229. 275. 281. 179. 200. 200. 173. 180.  84. 121. 161.\n",
      "  99. 109. 115. 268. 274. 158. 107.  83. 103. 272.  85. 280. 336. 281.\n",
      " 118. 317. 235.  60. 174. 259. 178. 128.  96. 126. 288.  88. 292.  71.\n",
      " 197. 186.  25.  84.  96. 195.  53. 217. 172. 131. 214.  59.  70. 220.\n",
      " 268. 152.  47.  74. 295. 101. 151. 127. 237. 225.  81. 151. 107.  64.\n",
      " 138. 185. 265. 101. 137. 143. 141.  79. 292. 178.  91. 116.  86. 122.\n",
      "  72. 129. 142.  90. 158.  39. 196. 222. 277.  99. 196. 202. 155.  77.\n",
      " 191.  70.  73.  49.  65. 263. 248. 296. 214. 185.  78.  93. 252. 150.\n",
      "  77. 208.  77. 108. 160.  53. 220. 154. 259.  90. 246. 124.  67.  72.\n",
      " 257. 262. 275. 177.  71.  47. 187. 125.  78.  51. 258. 215. 303. 243.\n",
      "  91. 150. 310. 153. 346.  63.  89.  50.  39. 103. 308. 116. 145.  74.\n",
      "  45. 115. 264.  87. 202. 127. 182. 241.  66.  94. 283.  64. 102. 200.\n",
      " 265.  94. 230. 181. 156. 233.  60. 219.  80.  68. 332. 248.  84. 200.\n",
      "  55.  85.  89.  31. 129.  83. 275.  65. 198. 236. 253. 124.  44. 172.\n",
      " 114. 142. 109. 180. 144. 163. 147.  97. 220. 190. 109. 191. 122. 230.\n",
      " 242. 248. 249. 192. 131. 237.  78. 135. 244. 199. 270. 164.  72.  96.\n",
      " 306.  91. 214.  95. 216. 263. 178. 113. 200. 139. 139.  88. 148.  88.\n",
      " 243.  71.  77. 109. 272.  60.  54. 221.  90. 311. 281. 182. 321.  58.\n",
      " 262. 206. 233. 242. 123. 167.  63. 197.  71. 168. 140. 217. 121. 235.\n",
      " 245.  40.  52. 104. 132.  88.  69. 219.  72. 201. 110.  51. 277.  63.\n",
      " 118.  69. 273. 258.  43. 198. 242. 232. 175.  93. 168. 275. 293. 281.\n",
      "  72. 140. 189. 181. 209. 136. 261. 113. 131. 174. 257.  55.  84.  42.\n",
      " 146. 212. 233.  91. 111. 152. 120.  67. 310.  94. 183.  66. 173.  72.\n",
      "  49.  64.  48. 178. 104. 132. 220.  57.]\n"
     ]
    }
   ],
   "source": [
    "print(y)"
   ]
  },
  {
   "cell_type": "code",
   "execution_count": 4,
   "id": "3e5ca36d",
   "metadata": {},
   "outputs": [],
   "source": [
    "results = {}"
   ]
  },
  {
   "cell_type": "code",
   "execution_count": 5,
   "id": "7fe37dc5",
   "metadata": {},
   "outputs": [
    {
     "data": {
      "text/plain": [
       "(442, 10)"
      ]
     },
     "execution_count": 5,
     "metadata": {},
     "output_type": "execute_result"
    }
   ],
   "source": [
    "diabete.data.shape"
   ]
  },
  {
   "cell_type": "code",
   "execution_count": 6,
   "id": "3b406de5",
   "metadata": {},
   "outputs": [],
   "source": [
    "from sklearn.model_selection import cross_val_score\n",
    "from sklearn.model_selection import train_test_split\n",
    "from sklearn.model_selection import GridSearchCV\n",
    "from sklearn.metrics import mean_squared_error\n",
    "from sklearn.metrics import r2_score\n",
    "import numpy as np"
   ]
  },
  {
   "cell_type": "markdown",
   "id": "efef0fb0",
   "metadata": {},
   "source": [
    "# DecisionTreeClassifier"
   ]
  },
  {
   "cell_type": "code",
   "execution_count": 7,
   "id": "6e66e90f",
   "metadata": {},
   "outputs": [],
   "source": [
    "from sklearn.tree import DecisionTreeRegressor\n",
    "X_train, X_test, y_train, y_test = train_test_split(X, y, test_size=0.2, random_state=0)"
   ]
  },
  {
   "cell_type": "code",
   "execution_count": 8,
   "id": "3bd0786f",
   "metadata": {},
   "outputs": [],
   "source": [
    "clf_tree = DecisionTreeRegressor() "
   ]
  },
  {
   "cell_type": "code",
   "execution_count": 9,
   "id": "9ae79be5",
   "metadata": {},
   "outputs": [],
   "source": [
    "\n",
    "param_grid = {'criterion':['mse', 'mae'], 'max_depth':[3, 7, 9]}\n",
    "clf_tree = GridSearchCV(clf_tree, param_grid, scoring='r2', cv=3)"
   ]
  },
  {
   "cell_type": "code",
   "execution_count": 10,
   "id": "03f98c88",
   "metadata": {},
   "outputs": [
    {
     "data": {
      "text/plain": [
       "GridSearchCV(cv=3, estimator=DecisionTreeRegressor(),\n",
       "             param_grid={'criterion': ['mse', 'mae'], 'max_depth': [3, 7, 9]},\n",
       "             scoring='r2')"
      ]
     },
     "execution_count": 10,
     "metadata": {},
     "output_type": "execute_result"
    }
   ],
   "source": [
    "clf_tree.fit(X_train, y_train)\n"
   ]
  },
  {
   "cell_type": "code",
   "execution_count": 11,
   "id": "da400d19",
   "metadata": {
    "scrolled": true
   },
   "outputs": [],
   "source": [
    "y_results = clf_tree.predict(X_test)\n",
    "results[\"treeMSE\"] = mean_squared_error(y_test, y_results)\n",
    "results[\"treeR2\"] = r2_score(y_test, y_results)"
   ]
  },
  {
   "cell_type": "markdown",
   "id": "ee39f839",
   "metadata": {},
   "source": [
    "# KNN"
   ]
  },
  {
   "cell_type": "code",
   "execution_count": 12,
   "id": "7d3eb55b",
   "metadata": {},
   "outputs": [],
   "source": [
    "from sklearn.neighbors import KNeighborsRegressor\n",
    "\n",
    "X_train, X_test, y_train, y_test = train_test_split(X, y, test_size=0.2, random_state=0)\n",
    "param_grid = {'n_neighbors':[1, 3, 5, 7], 'p':[1, 2]}\n",
    "clf_knn = KNeighborsRegressor()"
   ]
  },
  {
   "cell_type": "code",
   "execution_count": 13,
   "id": "5f3ea667",
   "metadata": {},
   "outputs": [
    {
     "data": {
      "text/plain": [
       "GridSearchCV(cv=3, estimator=KNeighborsRegressor(),\n",
       "             param_grid={'n_neighbors': [1, 3, 5, 7], 'p': [1, 2]},\n",
       "             scoring='r2')"
      ]
     },
     "execution_count": 13,
     "metadata": {},
     "output_type": "execute_result"
    }
   ],
   "source": [
    "clf_knn = GridSearchCV(clf_knn, param_grid, scoring='r2', cv=3)\n",
    "clf_knn.fit(X_train, y_train)"
   ]
  },
  {
   "cell_type": "code",
   "execution_count": 14,
   "id": "555825c7",
   "metadata": {},
   "outputs": [],
   "source": [
    "y_results = clf_knn.predict(X_test)\n",
    "results[\"Knn_MSE\"] = mean_squared_error(y_test, y_results)\n",
    "results[\"Knn_R2\"] = r2_score(y_test, y_results)"
   ]
  },
  {
   "cell_type": "code",
   "execution_count": 15,
   "id": "7916d9b9",
   "metadata": {},
   "outputs": [
    {
     "data": {
      "text/plain": [
       "{'n_neighbors': 7, 'p': 2}"
      ]
     },
     "execution_count": 15,
     "metadata": {},
     "output_type": "execute_result"
    }
   ],
   "source": [
    "clf_knn.best_params_"
   ]
  },
  {
   "cell_type": "markdown",
   "id": "5bb3f68f",
   "metadata": {},
   "source": [
    "# SVR"
   ]
  },
  {
   "cell_type": "code",
   "execution_count": 30,
   "id": "b0ebf209",
   "metadata": {},
   "outputs": [
    {
     "data": {
      "text/plain": [
       "{'C': 7, 'epsilon': 0.1, 'kernel': 'sigmoid'}"
      ]
     },
     "execution_count": 30,
     "metadata": {},
     "output_type": "execute_result"
    }
   ],
   "source": [
    "from sklearn.svm import SVR\n",
    "\n",
    "\n",
    "X_train, X_test, y_train, y_test = train_test_split(X, y, test_size=0.2, random_state=0)\n",
    "\n",
    "param_grid = {'kernel':['linear', 'poly', 'rbf', 'sigmoid'], 'C':[1, 3, 7], 'epsilon':[0.1, 0.2]}\n",
    "clf_svr = SVR()\n",
    "#clf_svr.fit(X, y)\n",
    "clf_svr = GridSearchCV(clf_svr, param_grid, scoring= 'r2', cv=3)\n",
    "clf_svr.fit(X_train, y_train)\n",
    "clf_svr.best_params_"
   ]
  },
  {
   "cell_type": "code",
   "execution_count": 17,
   "id": "c8682de3",
   "metadata": {},
   "outputs": [],
   "source": [
    "y_results = clf_svr.predict(X_test)\n",
    "results[\"SVR_MSE\"] = mean_squared_error(y_test, y_results)\n",
    "results[\"SVR_R2\"] = r2_score(y_test, y_results)"
   ]
  },
  {
   "cell_type": "markdown",
   "id": "6b2c61e3",
   "metadata": {},
   "source": [
    "# MLP"
   ]
  },
  {
   "cell_type": "code",
   "execution_count": 27,
   "id": "44856758",
   "metadata": {},
   "outputs": [
    {
     "data": {
      "text/plain": [
       "GridSearchCV(cv=3, estimator=MLPRegressor(max_iter=9000, random_state=0),\n",
       "             param_grid={'hidden_layer_sizes': [50, 30, 10]}, scoring='r2')"
      ]
     },
     "execution_count": 27,
     "metadata": {},
     "output_type": "execute_result"
    }
   ],
   "source": [
    "from sklearn.neural_network import MLPRegressor\n",
    "\n",
    "X_train, X_test, y_train, y_test = train_test_split(X, y, test_size=0.2, random_state=0)\n",
    "param_grid = {'hidden_layer_sizes':[50, 30, 10]}\n",
    "clf_mlp = MLPRegressor(max_iter=9000, random_state=0)\n",
    "clf_mlp = GridSearchCV(clf_mlp, param_grid, scoring=('r2'), cv=3)\n",
    "clf_mlp.fit(X_train, y_train)"
   ]
  },
  {
   "cell_type": "code",
   "execution_count": 28,
   "id": "6c1139e2",
   "metadata": {},
   "outputs": [
    {
     "data": {
      "text/plain": [
       "{'hidden_layer_sizes': 10}"
      ]
     },
     "execution_count": 28,
     "metadata": {},
     "output_type": "execute_result"
    }
   ],
   "source": [
    "y_results = clf_mlp.predict(X_test)\n",
    "results[\"MLP_MSE\"] = mean_squared_error(y_test, y_results)\n",
    "results[\"MLP_R2\"] = r2_score(y_test, y_results)\n",
    "clf_mlp.best_params_"
   ]
  },
  {
   "cell_type": "code",
   "execution_count": 29,
   "id": "22e2f894",
   "metadata": {},
   "outputs": [
    {
     "name": "stdout",
     "output_type": "stream",
     "text": [
      "treeMSE 4778.141926493388\n",
      "treeR2 0.06821179414519896\n",
      "Knn_MSE 3999.1272643889015\n",
      "Knn_R2 0.22012789155372325\n",
      "SVR_MSE 3285.49549669057\n",
      "SVR_R2 0.3592936331106341\n",
      "MLP_MSE 3457.8916556364948\n",
      "MLP_R2 0.3256745589785328\n"
     ]
    }
   ],
   "source": [
    "for key, value in results.items():\n",
    "    print(key, value)"
   ]
  },
  {
   "cell_type": "code",
   "execution_count": null,
   "id": "6ff250bf",
   "metadata": {},
   "outputs": [],
   "source": []
  }
 ],
 "metadata": {
  "kernelspec": {
   "display_name": "Python 3 (ipykernel)",
   "language": "python",
   "name": "python3"
  },
  "language_info": {
   "codemirror_mode": {
    "name": "ipython",
    "version": 3
   },
   "file_extension": ".py",
   "mimetype": "text/x-python",
   "name": "python",
   "nbconvert_exporter": "python",
   "pygments_lexer": "ipython3",
   "version": "3.9.7"
  }
 },
 "nbformat": 4,
 "nbformat_minor": 5
}
